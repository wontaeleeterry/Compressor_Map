{
 "cells": [
  {
   "cell_type": "code",
   "execution_count": 1,
   "id": "b7ee28a0",
   "metadata": {},
   "outputs": [],
   "source": [
    "import numpy as np\n",
    "import pandas as pd\n",
    "import matplotlib.pyplot as plt\n",
    "\n",
    "data_1 = pd.read_csv('./data/vane_100/100_32000.csv', sep = ',', header=None, na_values=[\"''\"])\n",
    "data_2 = pd.read_csv('./data/vane_100/100_32500.csv', sep = ',', header=None, na_values=[\"''\"])\n",
    "data_3 = pd.read_csv('./data/vane_100/100_33000.csv', sep = ',', header=None, na_values=[\"''\"])\n",
    "data_4 = pd.read_csv('./data/vane_100/100_33500.csv', sep = ',', header=None, na_values=[\"''\"])\n",
    "data_5 = pd.read_csv('./data/vane_100/100_34000.csv', sep = ',', header=None, na_values=[\"''\"])\n",
    "\n",
    "data_6 = pd.read_csv('./data/vane_100/100_34500.csv', sep = ',', header=None, na_values=[\"''\"])\n",
    "data_7 = pd.read_csv('./data/vane_100/100_35000.csv', sep = ',', header=None, na_values=[\"''\"])\n",
    "data_8 = pd.read_csv('./data/vane_100/100_35500.csv', sep = ',', header=None, na_values=[\"''\"])\n",
    "data_9 = pd.read_csv('./data/vane_100/100_36000.csv', sep = ',', header=None, na_values=[\"''\"])\n",
    "data_10 = pd.read_csv('./data/vane_100/100_36500.csv', sep = ',', header=None, na_values=[\"''\"])\n",
    "\n",
    "data_11 = pd.read_csv('./data/vane_100/100_37000.csv', sep = ',', header=None, na_values=[\"''\"])\n",
    "data_12 = pd.read_csv('./data/vane_100/100_37500.csv', sep = ',', header=None, na_values=[\"''\"])\n",
    "data_13 = pd.read_csv('./data/vane_100/100_38000.csv', sep = ',', header=None, na_values=[\"''\"])\n",
    "data_14 = pd.read_csv('./data/vane_100/100_38500.csv', sep = ',', header=None, na_values=[\"''\"])\n",
    "data_15 = pd.read_csv('./data/vane_100/100_39000.csv', sep = ',', header=None, na_values=[\"''\"])\n",
    "\n",
    "data_16 = pd.read_csv('./data/vane_100/100_39500.csv', sep = ',', header=None, na_values=[\"''\"])\n",
    "data_17 = pd.read_csv('./data/vane_100/100_40000.csv', sep = ',', header=None, na_values=[\"''\"])\n",
    "data_18 = pd.read_csv('./data/vane_100/100_40500.csv', sep = ',', header=None, na_values=[\"''\"])\n",
    "data_19 = pd.read_csv('./data/vane_100/100_41000.csv', sep = ',', header=None, na_values=[\"''\"])\n",
    "data_20 = pd.read_csv('./data/vane_100/100_41500.csv', sep = ',', header=None, na_values=[\"''\"])\n",
    "\n",
    "data_21 = pd.read_csv('./data/vane_100/100_42000.csv', sep = ',', header=None, na_values=[\"''\"])\n",
    "data_22 = pd.read_csv('./data/vane_100/100_42500.csv', sep = ',', header=None, na_values=[\"''\"])\n",
    "data_23 = pd.read_csv('./data/vane_100/100_43000.csv', sep = ',', header=None, na_values=[\"''\"])\n",
    "data_24 = pd.read_csv('./data/vane_100/100_43500.csv', sep = ',', header=None, na_values=[\"''\"])\n",
    "data_25 = pd.read_csv('./data/vane_100/100_44000.csv', sep = ',', header=None, na_values=[\"''\"])\n",
    "\n",
    "data_26 = pd.read_csv('./data/vane_100/100_44500.csv', sep = ',', header=None, na_values=[\"''\"])\n",
    "data_27 = pd.read_csv('./data/vane_100/100_45000.csv', sep = ',', header=None, na_values=[\"''\"])\n",
    "data_28 = pd.read_csv('./data/vane_100/100_45500.csv', sep = ',', header=None, na_values=[\"''\"])\n",
    "data_29 = pd.read_csv('./data/vane_100/100_46000.csv', sep = ',', header=None, na_values=[\"''\"])\n"
   ]
  },
  {
   "cell_type": "code",
   "execution_count": 2,
   "id": "5e0959ed",
   "metadata": {},
   "outputs": [
    {
     "data": {
      "application/vnd.microsoft.datawrangler.viewer.v0+json": {
       "columns": [
        {
         "name": "index",
         "rawType": "int64",
         "type": "integer"
        },
        {
         "name": "0",
         "rawType": "object",
         "type": "unknown"
        },
        {
         "name": "1",
         "rawType": "object",
         "type": "unknown"
        },
        {
         "name": "2",
         "rawType": "object",
         "type": "unknown"
        },
        {
         "name": "3",
         "rawType": "object",
         "type": "unknown"
        },
        {
         "name": "4",
         "rawType": "object",
         "type": "unknown"
        }
       ],
       "ref": "95a15cdd-1027-4891-9a3c-e798e28219db",
       "rows": [
        [
         "0",
         "Hz",
         "Mic_1m_dB",
         "Comp_Acc_x_g",
         "Comp_Acc_y_g",
         "Comp_Acc_z_g"
        ],
        [
         "1",
         null,
         null,
         null,
         null,
         null
        ],
        [
         "2",
         "0.0000000",
         "-inf",
         "0.0032026",
         "0.0001899",
         "0.0040094"
        ],
        [
         "3",
         "12.5000000",
         "8.587974410192556",
         "0.002454707921525492",
         "0.0009121041004183678",
         "0.003455729661012273"
        ],
        [
         "4",
         "25.0000000",
         "27.53107879391817",
         "0.0006767212202968073",
         "4.341624120073041e-05",
         "0.0012541922380560327"
        ],
        [
         "5",
         "37.5000000",
         "30.532469576250204",
         "0.0010647798692687612",
         "0.0008766758408898924",
         "0.0034001444969295057"
        ],
        [
         "6",
         "50.0000000",
         "27.959513392889072",
         "0.0022604098411571297",
         "0.00043981034548996233",
         "0.007882112473188898"
        ],
        [
         "7",
         "62.5000000",
         "35.56613293009516",
         "0.0007167600505050487",
         "0.00014859828397394094",
         "0.004651286395181445"
        ],
        [
         "8",
         "75.0000000",
         "38.90445261787508",
         "0.003240192636248654",
         "0.00026128976252429024",
         "0.00350788350006097"
        ],
        [
         "9",
         "87.5000000",
         "35.07469792202498",
         "0.0014559205610197282",
         "0.00191095373047073",
         "0.0005629390109061549"
        ],
        [
         "10",
         "100.0000000",
         "27.030325973981107",
         "0.003378734295560987",
         "0.002727174561703009",
         "0.00347173916790994"
        ],
        [
         "11",
         "112.5000000",
         "33.28930644154906",
         "0.0031975353915164096",
         "0.0008505127512271641",
         "0.003973577120177737"
        ],
        [
         "12",
         "125.0000000",
         "35.800197547926594",
         "0.005461011138058592",
         "0.0010570108135681488",
         "0.004010955947152748"
        ],
        [
         "13",
         "137.5000000",
         "34.86452384084113",
         "0.005475695321144156",
         "0.003941546885424554",
         "0.0014044885225590134"
        ],
        [
         "14",
         "150.0000000",
         "31.011741771108067",
         "0.006603254368112741",
         "0.0023206781875132966",
         "0.00019108474559733962"
        ],
        [
         "15",
         "162.5000000",
         "41.697549215905745",
         "0.017027493841725503",
         "0.050088890900977234",
         "0.03824808842609"
        ],
        [
         "16",
         "175.0000000",
         "48.45908861867419",
         "0.03721286339802408",
         "0.11972079129913066",
         "0.09171022913819374"
        ],
        [
         "17",
         "187.5000000",
         "42.54605700700616",
         "0.022800444430975463",
         "0.07266171584280129",
         "0.05631668697233529"
        ],
        [
         "18",
         "200.0000000",
         "34.27754433225382",
         "0.0009429115600097392",
         "0.0028511098540743743",
         "0.002890850120639256"
        ],
        [
         "19",
         "212.5000000",
         "38.412753483074",
         "0.0015720103053097328",
         "0.0012471085357738517",
         "0.0009568625502129342"
        ],
        [
         "20",
         "225.0000000",
         "29.688856476094188",
         "0.0009882995598501497",
         "0.0008003159875948999",
         "0.000412006419852895"
        ],
        [
         "21",
         "237.5000000",
         "39.10708679132347",
         "0.0004434340537216329",
         "0.00027765680254587675",
         "0.00023777237013580867"
        ],
        [
         "22",
         "250.0000000",
         "49.41870039611456",
         "0.0003870433825813329",
         "0.0006003395455906598",
         "0.0003732947494942837"
        ],
        [
         "23",
         "262.5000000",
         "49.51450340018563",
         "0.0010978206775243396",
         "0.0014699075140974004",
         "0.0016703074118257393"
        ],
        [
         "24",
         "275.0000000",
         "44.68378826003835",
         "0.001002373348608192",
         "0.0027938544163932377",
         "0.002024028075398165"
        ],
        [
         "25",
         "287.5000000",
         "49.16007759766492",
         "0.00046700990353524624",
         "0.022162832433829393",
         "0.016512318297561973"
        ],
        [
         "26",
         "300.0000000",
         "52.15831141846849",
         "0.004874153293650088",
         "0.07416806264801581",
         "0.0581329261802638"
        ],
        [
         "27",
         "312.5000000",
         "45.455622933375246",
         "0.004249726491199169",
         "0.05743194379306694",
         "0.04551315567712263"
        ],
        [
         "28",
         "325.0000000",
         "53.151356640481296",
         "0.00154169696763015",
         "0.006684898733713173",
         "0.006082891326499266"
        ],
        [
         "29",
         "337.5000000",
         "54.84825690730261",
         "0.0009614158829559661",
         "0.0015736507363452667",
         "0.001158560697589902"
        ],
        [
         "30",
         "350.0000000",
         "61.4419367689943",
         "0.0055420938516051845",
         "0.008399078564342638",
         "0.00019116498110271138"
        ],
        [
         "31",
         "362.5000000",
         "57.52951404802153",
         "0.0049914421573328885",
         "0.007213791248712428",
         "0.0007296530682454504"
        ],
        [
         "32",
         "375.0000000",
         "53.503947467639385",
         "0.0010692164467496746",
         "0.0014917760220622934",
         "0.00018940023759224804"
        ],
        [
         "33",
         "387.5000000",
         "50.656219976005126",
         "0.0012597102682760032",
         "0.0010653837806161683",
         "0.0011056728268344122"
        ],
        [
         "34",
         "400.0000000",
         "44.4001467463947",
         "0.0012605850268823599",
         "0.0023935004700229327",
         "0.0011744669344004538"
        ],
        [
         "35",
         "412.5000000",
         "37.43414543613736",
         "0.00045905740381786675",
         "0.003312137548472285",
         "0.00033163421114233677"
        ],
        [
         "36",
         "425.0000000",
         "47.86870620724728",
         "0.000506668846486539",
         "0.0029530591070955556",
         "0.0004548164684793197"
        ],
        [
         "37",
         "437.5000000",
         "45.80554633907329",
         "0.001857735828905714",
         "0.002699426281638378",
         "0.0017262429319189116"
        ],
        [
         "38",
         "450.0000000",
         "52.11750247575562",
         "0.00363820132757933",
         "0.007391355245149566",
         "0.0038955227081869256"
        ],
        [
         "39",
         "462.5000000",
         "44.0795345010272",
         "0.003844048948699795",
         "0.008731153409487203",
         "0.0038973839944249785"
        ],
        [
         "40",
         "475.0000000",
         "50.31708503639295",
         "0.0019216086099932005",
         "0.005223169968515289",
         "0.0023788208171276796"
        ],
        [
         "41",
         "487.5000000",
         "45.450611872702254",
         "0.0013718808439511065",
         "0.00037323196540489396",
         "0.0011312041371918686"
        ],
        [
         "42",
         "500.0000000",
         "39.19372489674447",
         "0.001617001880023644",
         "0.004439478784722369",
         "0.002217776057224895"
        ],
        [
         "43",
         "512.5000000",
         "37.60821856079169",
         "0.0018523160529456092",
         "0.0038676112136563053",
         "0.0005943226817142351"
        ],
        [
         "44",
         "525.0000000",
         "46.7731241189358",
         "0.008943068699836762",
         "0.02198026330711259",
         "0.005175532669204205"
        ],
        [
         "45",
         "537.5000000",
         "51.09635326279948",
         "0.009585450484979828",
         "0.026053707992913407",
         "0.004797081566952974"
        ],
        [
         "46",
         "550.0000000",
         "49.97882899754284",
         "0.0013185811844554736",
         "0.007955030490199267",
         "0.0014055513829099241"
        ],
        [
         "47",
         "562.5000000",
         "54.05722854558746",
         "0.0017725871628780348",
         "0.0023084702900405714",
         "0.0013955054496489793"
        ],
        [
         "48",
         "575.0000000",
         "56.611910293846215",
         "0.001541193488826111",
         "0.0012389402084039406",
         "0.003893463406788357"
        ],
        [
         "49",
         "587.5000000",
         "55.91144890376026",
         "0.0014561082514703363",
         "0.0034213679048006513",
         "0.003942269154941098"
        ]
       ],
       "shape": {
        "columns": 5,
        "rows": 851
       }
      },
      "text/html": [
       "<div>\n",
       "<style scoped>\n",
       "    .dataframe tbody tr th:only-of-type {\n",
       "        vertical-align: middle;\n",
       "    }\n",
       "\n",
       "    .dataframe tbody tr th {\n",
       "        vertical-align: top;\n",
       "    }\n",
       "\n",
       "    .dataframe thead th {\n",
       "        text-align: right;\n",
       "    }\n",
       "</style>\n",
       "<table border=\"1\" class=\"dataframe\">\n",
       "  <thead>\n",
       "    <tr style=\"text-align: right;\">\n",
       "      <th></th>\n",
       "      <th>0</th>\n",
       "      <th>1</th>\n",
       "      <th>2</th>\n",
       "      <th>3</th>\n",
       "      <th>4</th>\n",
       "    </tr>\n",
       "  </thead>\n",
       "  <tbody>\n",
       "    <tr>\n",
       "      <th>0</th>\n",
       "      <td>Hz</td>\n",
       "      <td>Mic_1m_dB</td>\n",
       "      <td>Comp_Acc_x_g</td>\n",
       "      <td>Comp_Acc_y_g</td>\n",
       "      <td>Comp_Acc_z_g</td>\n",
       "    </tr>\n",
       "    <tr>\n",
       "      <th>1</th>\n",
       "      <td>NaN</td>\n",
       "      <td>NaN</td>\n",
       "      <td>NaN</td>\n",
       "      <td>NaN</td>\n",
       "      <td>NaN</td>\n",
       "    </tr>\n",
       "    <tr>\n",
       "      <th>2</th>\n",
       "      <td>0.0000000</td>\n",
       "      <td>-inf</td>\n",
       "      <td>0.0032026</td>\n",
       "      <td>0.0001899</td>\n",
       "      <td>0.0040094</td>\n",
       "    </tr>\n",
       "    <tr>\n",
       "      <th>3</th>\n",
       "      <td>12.5000000</td>\n",
       "      <td>8.587974410192556</td>\n",
       "      <td>0.002454707921525492</td>\n",
       "      <td>0.0009121041004183678</td>\n",
       "      <td>0.003455729661012273</td>\n",
       "    </tr>\n",
       "    <tr>\n",
       "      <th>4</th>\n",
       "      <td>25.0000000</td>\n",
       "      <td>27.53107879391817</td>\n",
       "      <td>0.0006767212202968073</td>\n",
       "      <td>4.341624120073041e-05</td>\n",
       "      <td>0.0012541922380560327</td>\n",
       "    </tr>\n",
       "    <tr>\n",
       "      <th>...</th>\n",
       "      <td>...</td>\n",
       "      <td>...</td>\n",
       "      <td>...</td>\n",
       "      <td>...</td>\n",
       "      <td>...</td>\n",
       "    </tr>\n",
       "    <tr>\n",
       "      <th>846</th>\n",
       "      <td>10550.0000000</td>\n",
       "      <td>62.222043736528406</td>\n",
       "      <td>0.01203380809635919</td>\n",
       "      <td>0.024093835125608375</td>\n",
       "      <td>0.017025863930209238</td>\n",
       "    </tr>\n",
       "    <tr>\n",
       "      <th>847</th>\n",
       "      <td>10562.5000000</td>\n",
       "      <td>46.22706138098616</td>\n",
       "      <td>0.011470312785621847</td>\n",
       "      <td>0.014377784566823917</td>\n",
       "      <td>0.014830971974216659</td>\n",
       "    </tr>\n",
       "    <tr>\n",
       "      <th>848</th>\n",
       "      <td>10575.0000000</td>\n",
       "      <td>52.40965910024201</td>\n",
       "      <td>0.0196960553017603</td>\n",
       "      <td>0.022969545968738694</td>\n",
       "      <td>0.01854986758578077</td>\n",
       "    </tr>\n",
       "    <tr>\n",
       "      <th>849</th>\n",
       "      <td>10587.5000000</td>\n",
       "      <td>48.262603831764395</td>\n",
       "      <td>0.016412703558524415</td>\n",
       "      <td>0.014363114328724115</td>\n",
       "      <td>0.013881748734579516</td>\n",
       "    </tr>\n",
       "    <tr>\n",
       "      <th>850</th>\n",
       "      <td>10600.0000000</td>\n",
       "      <td>56.70937663362522</td>\n",
       "      <td>0.011428800483865312</td>\n",
       "      <td>0.0045164310334599375</td>\n",
       "      <td>0.009384135581394804</td>\n",
       "    </tr>\n",
       "  </tbody>\n",
       "</table>\n",
       "<p>851 rows × 5 columns</p>\n",
       "</div>"
      ],
      "text/plain": [
       "                 0                   1                      2  \\\n",
       "0               Hz           Mic_1m_dB           Comp_Acc_x_g   \n",
       "1              NaN                 NaN                    NaN   \n",
       "2        0.0000000                -inf              0.0032026   \n",
       "3       12.5000000   8.587974410192556   0.002454707921525492   \n",
       "4       25.0000000   27.53107879391817  0.0006767212202968073   \n",
       "..             ...                 ...                    ...   \n",
       "846  10550.0000000  62.222043736528406    0.01203380809635919   \n",
       "847  10562.5000000   46.22706138098616   0.011470312785621847   \n",
       "848  10575.0000000   52.40965910024201     0.0196960553017603   \n",
       "849  10587.5000000  48.262603831764395   0.016412703558524415   \n",
       "850  10600.0000000   56.70937663362522   0.011428800483865312   \n",
       "\n",
       "                         3                      4  \n",
       "0             Comp_Acc_y_g           Comp_Acc_z_g  \n",
       "1                      NaN                    NaN  \n",
       "2                0.0001899              0.0040094  \n",
       "3    0.0009121041004183678   0.003455729661012273  \n",
       "4    4.341624120073041e-05  0.0012541922380560327  \n",
       "..                     ...                    ...  \n",
       "846   0.024093835125608375   0.017025863930209238  \n",
       "847   0.014377784566823917   0.014830971974216659  \n",
       "848   0.022969545968738694    0.01854986758578077  \n",
       "849   0.014363114328724115   0.013881748734579516  \n",
       "850  0.0045164310334599375   0.009384135581394804  \n",
       "\n",
       "[851 rows x 5 columns]"
      ]
     },
     "execution_count": 2,
     "metadata": {},
     "output_type": "execute_result"
    }
   ],
   "source": [
    "data_29"
   ]
  },
  {
   "cell_type": "code",
   "execution_count": 3,
   "id": "28d0bd5a",
   "metadata": {},
   "outputs": [],
   "source": [
    "# Mic_1m_dB 데이터만 추출하여 정리\n",
    "\n",
    "Amp_data = np.zeros((847, 30))\n",
    "\n",
    "for i in range(0, 847):\n",
    "    Amp_data[i, 0]=data_1.iloc[i+2, 0]\n",
    "\n",
    "    Amp_data[i, 1]=data_1.iloc[i+2, 1]\n",
    "    Amp_data[i, 2]=data_2.iloc[i+2, 1]\n",
    "    Amp_data[i, 3]=data_3.iloc[i+2, 1]\n",
    "    Amp_data[i, 4]=data_4.iloc[i+2, 1]\n",
    "    Amp_data[i, 5]=data_5.iloc[i+2, 1]\n",
    "\n",
    "    Amp_data[i, 6]=data_6.iloc[i+2, 1]\n",
    "    Amp_data[i, 7]=data_7.iloc[i+2, 1]\n",
    "    Amp_data[i, 8]=data_8.iloc[i+2, 1]\n",
    "    Amp_data[i, 9]=data_9.iloc[i+2, 1]\n",
    "    Amp_data[i, 10]=data_10.iloc[i+2, 1]\n",
    "\n",
    "    Amp_data[i, 11]=data_11.iloc[i+2, 1]\n",
    "    Amp_data[i, 12]=data_12.iloc[i+2, 1]\n",
    "    Amp_data[i, 13]=data_13.iloc[i+2, 1]\n",
    "    Amp_data[i, 14]=data_14.iloc[i+2, 1]\n",
    "    Amp_data[i, 15]=data_15.iloc[i+2, 1]\n",
    "\n",
    "    Amp_data[i, 16]=data_16.iloc[i+2, 1]\n",
    "    Amp_data[i, 17]=data_17.iloc[i+2, 1]\n",
    "    Amp_data[i, 18]=data_18.iloc[i+2, 1]\n",
    "    Amp_data[i, 19]=data_19.iloc[i+2, 1]\n",
    "    Amp_data[i, 20]=data_20.iloc[i+2, 1]\n",
    "\n",
    "    Amp_data[i, 21]=data_21.iloc[i+2, 1]\n",
    "    Amp_data[i, 22]=data_22.iloc[i+2, 1]\n",
    "    Amp_data[i, 23]=data_23.iloc[i+2, 1]\n",
    "    Amp_data[i, 24]=data_24.iloc[i+2, 1]\n",
    "    Amp_data[i, 25]=data_25.iloc[i+2, 1]\n",
    "\n",
    "    Amp_data[i, 26]=data_26.iloc[i+2, 1]\n",
    "    Amp_data[i, 27]=data_27.iloc[i+2, 1]\n",
    "    Amp_data[i, 28]=data_28.iloc[i+2, 1]\n",
    "    Amp_data[i, 29]=data_29.iloc[i+2, 1]\n"
   ]
  },
  {
   "cell_type": "code",
   "execution_count": 8,
   "id": "90ec381d",
   "metadata": {},
   "outputs": [
    {
     "data": {
      "image/png": "[encoded data removed]",
      "text/plain": [
       "<Figure size 500x600 with 2 Axes>"
      ]
     },
     "metadata": {},
     "output_type": "display_data"
    }
   ],
   "source": [
    "y = np.ones([len(Amp_data), 1])  # 임의의 정수열을 정의\n",
    "\n",
    "plt.subplots(figsize = (5, 6))\n",
    "\n",
    "for i in range(29):\n",
    "    plt.scatter(32 + y*(i+1)*0.5, Amp_data[:, 0], c = Amp_data[:, i+1],\n",
    "                norm = plt.Normalize(vmin=20, vmax=90), s=350, marker='_', cmap=\"jet\")\n",
    "    \n",
    "# plot line의 갯수가 여러 개인 경우, 반복문 처리\n",
    "# Normalize min/Max 값으로 수정\n",
    "# 그래프 방향에 따라 marker : \"_\", \"|\" 중 선택\n",
    "\n",
    "plt.title('Mic. 1m away : 100% Opening', fontsize=12)\n",
    "plt.ylabel('Frequency (Hz)', fontsize=10)\n",
    "plt.xlabel('Speed (x1000 RPM)', fontsize=10)\n",
    "\n",
    "plt.ylim(0, 8000)  # y축 리밋값 설정에 따라서 Scatter s 값을 변화시켜야 함\n",
    "plt.xlim(32, 46)    \n",
    "    \n",
    "cbar = plt.colorbar()\n",
    "cbar.set_label('Sound Pressure Level (dB(A))', rotation=90, fontsize=10)\n",
    "\n",
    "plt.show()"
   ]
  },
  {
   "cell_type": "code",
   "execution_count": null,
   "id": "2991f9ae",
   "metadata": {},
   "outputs": [],
   "source": []
  }
 ],
 "metadata": {
  "kernelspec": {
   "display_name": "base",
   "language": "python",
   "name": "base"
  },
  "language_info": {
   "codemirror_mode": {
    "name": "ipython",
    "version": 3
   },
   "file_extension": ".py",
   "mimetype": "text/x-python",
   "name": "python",
   "nbconvert_exporter": "python",
   "pygments_lexer": "ipython3",
   "version": "3.11.7"
  }
 },
 "nbformat": 4,
 "nbformat_minor": 5
}
