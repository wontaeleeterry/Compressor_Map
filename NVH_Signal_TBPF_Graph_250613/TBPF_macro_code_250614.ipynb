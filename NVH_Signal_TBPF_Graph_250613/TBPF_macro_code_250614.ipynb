{
 "cells": [
  {
   "cell_type": "code",
   "execution_count": 1,
   "id": "2068c04b",
   "metadata": {},
   "outputs": [],
   "source": [
    "# csv 파일 post processing : '' 문자가 셀에 포함되어 있는 문제 해결 (250613)\n",
    "# 반복문으로 전체 파일을 한 번에 처리하여 TBPF 값을 추출하는 매크로 작성\n",
    "\n",
    "import numpy as np\n",
    "import pandas as pd\n"
   ]
  },
  {
   "cell_type": "code",
   "execution_count": 2,
   "id": "ebbd80b1",
   "metadata": {},
   "outputs": [
    {
     "name": "stdout",
     "output_type": "stream",
     "text": [
      "['./data/vane_100\\\\100_32000.csv', './data/vane_100\\\\100_32500.csv', './data/vane_100\\\\100_33000.csv', './data/vane_100\\\\100_33500.csv', './data/vane_100\\\\100_34000.csv', './data/vane_100\\\\100_34500.csv', './data/vane_100\\\\100_35000.csv', './data/vane_100\\\\100_35500.csv', './data/vane_100\\\\100_36000.csv', './data/vane_100\\\\100_36500.csv', './data/vane_100\\\\100_37000.csv', './data/vane_100\\\\100_37500.csv', './data/vane_100\\\\100_38000.csv', './data/vane_100\\\\100_38500.csv', './data/vane_100\\\\100_39000.csv', './data/vane_100\\\\100_39500.csv', './data/vane_100\\\\100_40000.csv', './data/vane_100\\\\100_40500.csv', './data/vane_100\\\\100_41000.csv', './data/vane_100\\\\100_41500.csv', './data/vane_100\\\\100_42000.csv', './data/vane_100\\\\100_42500.csv', './data/vane_100\\\\100_43000.csv', './data/vane_100\\\\100_43500.csv', './data/vane_100\\\\100_44000.csv', './data/vane_100\\\\100_44500.csv', './data/vane_100\\\\100_45000.csv', './data/vane_100\\\\100_45500.csv', './data/vane_100\\\\100_46000.csv']\n",
      "29\n"
     ]
    }
   ],
   "source": [
    "# 디렉토리 내 모든 파일을 리스트로 반환하는 함수 정의\n",
    "\n",
    "import os\n",
    "\n",
    "def list_files(directory):\n",
    "    file_list = []\n",
    "    for root, dirs, files in os.walk(directory):\n",
    "        for file in files:\n",
    "            file_list.append(os.path.join(root, file))\n",
    "    return file_list\n",
    "\n",
    "# 지정된 디렉토리 내 모든 파일 리스트 호출\n",
    "file_names = list_files('./data/vane_100')\n",
    "\n",
    "print(file_names)\n",
    "print(len(file_names))"
   ]
  },
  {
   "cell_type": "code",
   "execution_count": 4,
   "id": "f44060ee",
   "metadata": {},
   "outputs": [],
   "source": [
    "# '' 문자로 인하여 csv 파일이 로딩 안되는 문제 해결\n",
    "\n",
    "for i in range(0, len(file_names)):\n",
    "    clean_lines = []\n",
    "\n",
    "    with open(file_names[i], 'r', encoding='utf-8') as f:\n",
    "        for line in f:\n",
    "            clean_line = line.replace(\"''\", \"\")\n",
    "            clean_lines.append(clean_line)\n",
    "\n",
    "    with open(file_names[i], 'w', encoding='utf-8') as f:\n",
    "        f.writelines(clean_lines)"
   ]
  },
  {
   "cell_type": "code",
   "execution_count": 5,
   "id": "d5ee3936",
   "metadata": {},
   "outputs": [
    {
     "name": "stderr",
     "output_type": "stream",
     "text": [
      "c:\\Users\\wonta\\anaconda3\\Lib\\site-packages\\pandas\\core\\arraylike.py:396: RuntimeWarning: divide by zero encountered in log10\n",
      "  result = getattr(ufunc, method)(*inputs, **kwargs)\n",
      "c:\\Users\\wonta\\anaconda3\\Lib\\site-packages\\pandas\\core\\arraylike.py:396: RuntimeWarning: divide by zero encountered in log10\n",
      "  result = getattr(ufunc, method)(*inputs, **kwargs)\n",
      "c:\\Users\\wonta\\anaconda3\\Lib\\site-packages\\pandas\\core\\arraylike.py:396: RuntimeWarning: divide by zero encountered in log10\n",
      "  result = getattr(ufunc, method)(*inputs, **kwargs)\n",
      "c:\\Users\\wonta\\anaconda3\\Lib\\site-packages\\pandas\\core\\arraylike.py:396: RuntimeWarning: divide by zero encountered in log10\n",
      "  result = getattr(ufunc, method)(*inputs, **kwargs)\n",
      "c:\\Users\\wonta\\anaconda3\\Lib\\site-packages\\pandas\\core\\arraylike.py:396: RuntimeWarning: divide by zero encountered in log10\n",
      "  result = getattr(ufunc, method)(*inputs, **kwargs)\n",
      "c:\\Users\\wonta\\anaconda3\\Lib\\site-packages\\pandas\\core\\arraylike.py:396: RuntimeWarning: divide by zero encountered in log10\n",
      "  result = getattr(ufunc, method)(*inputs, **kwargs)\n",
      "c:\\Users\\wonta\\anaconda3\\Lib\\site-packages\\pandas\\core\\arraylike.py:396: RuntimeWarning: divide by zero encountered in log10\n",
      "  result = getattr(ufunc, method)(*inputs, **kwargs)\n",
      "c:\\Users\\wonta\\anaconda3\\Lib\\site-packages\\pandas\\core\\arraylike.py:396: RuntimeWarning: divide by zero encountered in log10\n",
      "  result = getattr(ufunc, method)(*inputs, **kwargs)\n",
      "c:\\Users\\wonta\\anaconda3\\Lib\\site-packages\\pandas\\core\\arraylike.py:396: RuntimeWarning: divide by zero encountered in log10\n",
      "  result = getattr(ufunc, method)(*inputs, **kwargs)\n",
      "c:\\Users\\wonta\\anaconda3\\Lib\\site-packages\\pandas\\core\\arraylike.py:396: RuntimeWarning: divide by zero encountered in log10\n",
      "  result = getattr(ufunc, method)(*inputs, **kwargs)\n",
      "c:\\Users\\wonta\\anaconda3\\Lib\\site-packages\\pandas\\core\\arraylike.py:396: RuntimeWarning: divide by zero encountered in log10\n",
      "  result = getattr(ufunc, method)(*inputs, **kwargs)\n",
      "c:\\Users\\wonta\\anaconda3\\Lib\\site-packages\\pandas\\core\\arraylike.py:396: RuntimeWarning: divide by zero encountered in log10\n",
      "  result = getattr(ufunc, method)(*inputs, **kwargs)\n",
      "c:\\Users\\wonta\\anaconda3\\Lib\\site-packages\\pandas\\core\\arraylike.py:396: RuntimeWarning: divide by zero encountered in log10\n",
      "  result = getattr(ufunc, method)(*inputs, **kwargs)\n",
      "c:\\Users\\wonta\\anaconda3\\Lib\\site-packages\\pandas\\core\\arraylike.py:396: RuntimeWarning: divide by zero encountered in log10\n",
      "  result = getattr(ufunc, method)(*inputs, **kwargs)\n",
      "c:\\Users\\wonta\\anaconda3\\Lib\\site-packages\\pandas\\core\\arraylike.py:396: RuntimeWarning: divide by zero encountered in log10\n",
      "  result = getattr(ufunc, method)(*inputs, **kwargs)\n",
      "c:\\Users\\wonta\\anaconda3\\Lib\\site-packages\\pandas\\core\\arraylike.py:396: RuntimeWarning: divide by zero encountered in log10\n",
      "  result = getattr(ufunc, method)(*inputs, **kwargs)\n",
      "c:\\Users\\wonta\\anaconda3\\Lib\\site-packages\\pandas\\core\\arraylike.py:396: RuntimeWarning: divide by zero encountered in log10\n",
      "  result = getattr(ufunc, method)(*inputs, **kwargs)\n",
      "c:\\Users\\wonta\\anaconda3\\Lib\\site-packages\\pandas\\core\\arraylike.py:396: RuntimeWarning: divide by zero encountered in log10\n",
      "  result = getattr(ufunc, method)(*inputs, **kwargs)\n",
      "c:\\Users\\wonta\\anaconda3\\Lib\\site-packages\\pandas\\core\\arraylike.py:396: RuntimeWarning: divide by zero encountered in log10\n",
      "  result = getattr(ufunc, method)(*inputs, **kwargs)\n",
      "c:\\Users\\wonta\\anaconda3\\Lib\\site-packages\\pandas\\core\\arraylike.py:396: RuntimeWarning: divide by zero encountered in log10\n",
      "  result = getattr(ufunc, method)(*inputs, **kwargs)\n",
      "c:\\Users\\wonta\\anaconda3\\Lib\\site-packages\\pandas\\core\\arraylike.py:396: RuntimeWarning: divide by zero encountered in log10\n",
      "  result = getattr(ufunc, method)(*inputs, **kwargs)\n",
      "c:\\Users\\wonta\\anaconda3\\Lib\\site-packages\\pandas\\core\\arraylike.py:396: RuntimeWarning: divide by zero encountered in log10\n",
      "  result = getattr(ufunc, method)(*inputs, **kwargs)\n",
      "c:\\Users\\wonta\\anaconda3\\Lib\\site-packages\\pandas\\core\\arraylike.py:396: RuntimeWarning: divide by zero encountered in log10\n",
      "  result = getattr(ufunc, method)(*inputs, **kwargs)\n",
      "c:\\Users\\wonta\\anaconda3\\Lib\\site-packages\\pandas\\core\\arraylike.py:396: RuntimeWarning: divide by zero encountered in log10\n",
      "  result = getattr(ufunc, method)(*inputs, **kwargs)\n",
      "c:\\Users\\wonta\\anaconda3\\Lib\\site-packages\\pandas\\core\\arraylike.py:396: RuntimeWarning: divide by zero encountered in log10\n",
      "  result = getattr(ufunc, method)(*inputs, **kwargs)\n",
      "c:\\Users\\wonta\\anaconda3\\Lib\\site-packages\\pandas\\core\\arraylike.py:396: RuntimeWarning: divide by zero encountered in log10\n",
      "  result = getattr(ufunc, method)(*inputs, **kwargs)\n",
      "c:\\Users\\wonta\\anaconda3\\Lib\\site-packages\\pandas\\core\\arraylike.py:396: RuntimeWarning: divide by zero encountered in log10\n",
      "  result = getattr(ufunc, method)(*inputs, **kwargs)\n",
      "c:\\Users\\wonta\\anaconda3\\Lib\\site-packages\\pandas\\core\\arraylike.py:396: RuntimeWarning: divide by zero encountered in log10\n",
      "  result = getattr(ufunc, method)(*inputs, **kwargs)\n",
      "c:\\Users\\wonta\\anaconda3\\Lib\\site-packages\\pandas\\core\\arraylike.py:396: RuntimeWarning: divide by zero encountered in log10\n",
      "  result = getattr(ufunc, method)(*inputs, **kwargs)\n"
     ]
    }
   ],
   "source": [
    "for i in range(0, len(file_names)):\n",
    "\n",
    "    data_base = pd.read_csv(file_names[i], sep=',', header=1)\n",
    "    data_base = data_base.drop(data_base.columns[0], axis=1)    # 불필요한 컬럼 제거\n",
    "\n",
    "    # 두번째 행을 컬럼명으로 지정\n",
    "    data_base = data_base.rename(columns=data_base.iloc[0])\n",
    "\n",
    "    # 행 삭제\n",
    "    data_base = data_base.drop(data_base.index[0:8])\n",
    "\n",
    "    data_base['Mic_1m_dB'] = np.sqrt(np.float64(data_base.iloc[:, 1])**2\n",
    "                                                + (np.float64(data_base.iloc[:,2])**2))\n",
    "    data_base['Mic_1m_dB'] = 20*np.log10(data_base['Mic_1m_dB']/(2*10**(-5)+1e-10))\n",
    "\n",
    "    data_base['Comp_Acc_x_g'] = np.sqrt(np.float64(data_base.iloc[:, 4])**2\n",
    "                                                + (np.float64(data_base.iloc[:,5])**2))\n",
    "    data_base['Comp_Acc_y_g'] = np.sqrt(np.float64(data_base.iloc[:, 7])**2\n",
    "                                                + (np.float64(data_base.iloc[:,8])**2))\n",
    "    data_base['Comp_Acc_z_g'] = np.sqrt(np.float64(data_base.iloc[:, 10])**2\n",
    "                                                + (np.float64(data_base.iloc[:,11])**2))\n",
    "    \n",
    "    data_base = pd.concat([data_base.iloc[:, 0], data_base.iloc[:, 12:16]], axis=1)\n",
    "    data_base.rename(columns= {data_base.columns[0]:'Hz'}, inplace=True)\n",
    "\n",
    "    data_base = data_base.iloc[0:850, :]   # ~10k Hz 까지 데이터만 추출하여 사용하기 - 블록 사이즈에 따라 조정할 것\n",
    "\n",
    "    data_base.to_csv(file_names[i], index=False)"
   ]
  },
  {
   "cell_type": "code",
   "execution_count": null,
   "id": "17e39c1c",
   "metadata": {},
   "outputs": [],
   "source": []
  }
 ],
 "metadata": {
  "kernelspec": {
   "display_name": "base",
   "language": "python",
   "name": "base"
  },
  "language_info": {
   "codemirror_mode": {
    "name": "ipython",
    "version": 3
   },
   "file_extension": ".py",
   "mimetype": "text/x-python",
   "name": "python",
   "nbconvert_exporter": "python",
   "pygments_lexer": "ipython3",
   "version": "3.11.7"
  }
 },
 "nbformat": 4,
 "nbformat_minor": 5
}
